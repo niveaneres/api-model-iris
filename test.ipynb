{
 "cells": [
  {
   "cell_type": "code",
   "execution_count": null,
   "metadata": {},
   "outputs": [],
   "source": [
    "curl -X POST http://127.0.0.1:5000/predict -H \"Content-Type: application/json\" -d '{\"input\": [0.0, 1.58, 5.0, -1.0]}'"
   ]
  },
  {
   "cell_type": "code",
   "execution_count": null,
   "metadata": {},
   "outputs": [],
   "source": [
    "{\"a\": 1.5, \"b\": 2.3, \"c\": 3.8, \"d\": 4.0}\n",
    "[1.5, 2.3, 3.8, 4.0]\n",
    "{\"a\": 1.5, \"b\": 2.3, \"c\": 3.8}\n",
    "{\"a\": 1.5, \"b\": \"texto\", \"c\": 3.8, \"d\": 4.0}\n",
    "{\"a\": 1.5, \"b\": 2, \"c\": 3.8, \"d\": 4}\n",
    "{\"a\": 1.5, \"b\": 2, \"c\": 3.8}"
   ]
  },
  {
   "cell_type": "code",
   "execution_count": 17,
   "metadata": {},
   "outputs": [],
   "source": [
    "data = {\"a\": 1.5, \"b\": 2, \"c\": 3.8, \"d\": 4}"
   ]
  },
  {
   "cell_type": "code",
   "execution_count": null,
   "metadata": {},
   "outputs": [],
   "source": []
  },
  {
   "cell_type": "code",
   "execution_count": 66,
   "metadata": {},
   "outputs": [
    {
     "name": "stdout",
     "output_type": "stream",
     "text": [
      "Resposta: {'category': 'Iris-versicolor'}\n"
     ]
    }
   ],
   "source": [
    "import requests\n",
    "\n",
    "# Local\n",
    "url = 'http://127.0.0.1:5000/inference/'\n",
    "\n",
    "# docker\n",
    "#url = 'http://localhost:9002/inference/'\n",
    "\n",
    "data = {\"SepalLengthCm\": 0.0, \"SepalWidthCm\": 1.5799999999999, \"PetalLengthCm\": 5, \"PetalWidthCm\": -1.0}\n",
    "\n",
    "response = requests.post(url, json=data)\n",
    "print(\"Resposta:\", response.json())\n",
    "#print(response)\n"
   ]
  },
  {
   "cell_type": "code",
   "execution_count": null,
   "metadata": {},
   "outputs": [],
   "source": []
  },
  {
   "cell_type": "code",
   "execution_count": 27,
   "metadata": {},
   "outputs": [
    {
     "data": {
      "text/plain": [
       "array(['SepalLengthCm', 'SepalWidthCm', 'PetalLengthCm', 'PetalWidthCm'],\n",
       "      dtype=object)"
      ]
     },
     "execution_count": 27,
     "metadata": {},
     "output_type": "execute_result"
    }
   ],
   "source": [
    "model.model.feature_names_in_"
   ]
  },
  {
   "cell_type": "code",
   "execution_count": null,
   "metadata": {},
   "outputs": [],
   "source": []
  }
 ],
 "metadata": {
  "kernelspec": {
   "display_name": "case-tecnico",
   "language": "python",
   "name": "python3"
  },
  "language_info": {
   "codemirror_mode": {
    "name": "ipython",
    "version": 3
   },
   "file_extension": ".py",
   "mimetype": "text/x-python",
   "name": "python",
   "nbconvert_exporter": "python",
   "pygments_lexer": "ipython3",
   "version": "3.11.10"
  }
 },
 "nbformat": 4,
 "nbformat_minor": 2
}
